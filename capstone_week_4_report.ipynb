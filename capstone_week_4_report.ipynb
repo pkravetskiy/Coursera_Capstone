{
 "cells": [
  {
   "cell_type": "markdown",
   "metadata": {},
   "source": [
    "### Introduction/Business Problem "
   ]
  },
  {
   "cell_type": "markdown",
   "metadata": {},
   "source": [
    "Sushi is traditional Japanese food is gaining great popularity for many people especially in **Saint Petersburg, Russia**. Saint Petersburg is Russia's second-largest city after Moscow, with about 5,4 million inhabitants in 2019 and with lots of business opportunities and business friendly environment. Since the number of sushi bars in Saint Petersburg is rather small, customers may be interested in opening additional sushi bars in the most favorable neighborhoods of the city. However, any new business venture or expansion in the country needs to be reviewed carefully and strategically targeted so that the return on investment will be sustainably reasonable and more importantly the investment can be considerably less risky. Particularly, the location of the sushi bar is one of the most important decisions that will determine whether the bar will be a success or a failure. \n",
    "\n",
    "The objective of this capstone project is to analyze and select the best locations in the city of Saint Petersburg, Russia to open a new sushi bar. Using data science methodology and machine learning techniques like clustering, this project aims to provide solutions to answer the following business question: **Which neighborhoods would be a good choice for opening a new sushi bar in Saint Petersburg, Russia?**"
   ]
  },
  {
   "cell_type": "markdown",
   "metadata": {},
   "source": [
    "### Data description"
   ]
  },
  {
   "cell_type": "markdown",
   "metadata": {},
   "source": [
    "To solve this problem, we will need the following data:\n",
    "\n",
    "- List of neighbourhoods in Saint Petersburg.\n",
    "- Latitude and longitude coordinates of those neighbourhoods. This is required in order to plot the map and also to get the venue data.\n",
    "- Venue data, particularly data related to sushi bars. We will use this data to perform clustering on the neighbourhoods.\n",
    "\n",
    "Unfortunately, the Saint Petersburg neighborhood data is not widely available on the Internet in the structured format, hence we need to scrap it through an existing Wikipedia page [https://en.wikipedia.org/wiki/Category:Districts_of_Saint_Petersburg](https://en.wikipedia.org/wiki/Category:Districts_of_Saint_Petersburg) that has all the information we need to explore and cluster the neighborhoods in Saint Petersburg.\n",
    "\n",
    "Then we will get the geographical coordinates of the neighbourhoods using Python Geocoder package which will give us the latitude and longitude coordinates of the neighbourhoods.\n",
    "\n",
    "And after that, we will use Foursquare API to get the venue data for those neighbourhoods. Since Foursquare has one of the largest database used by many developers around the world, we will use it to get information about *Sushi Restaurant* category of the venue data in order to help us to solve the business problem put forward.\n",
    "\n",
    "The data before feature engineering step looks like as follows:"
   ]
  },
  {
   "cell_type": "code",
   "execution_count": 4,
   "metadata": {},
   "outputs": [
    {
     "data": {
      "text/html": [
       "<div>\n",
       "<style scoped>\n",
       "    .dataframe tbody tr th:only-of-type {\n",
       "        vertical-align: middle;\n",
       "    }\n",
       "\n",
       "    .dataframe tbody tr th {\n",
       "        vertical-align: top;\n",
       "    }\n",
       "\n",
       "    .dataframe thead th {\n",
       "        text-align: right;\n",
       "    }\n",
       "</style>\n",
       "<table border=\"1\" class=\"dataframe\">\n",
       "  <thead>\n",
       "    <tr style=\"text-align: right;\">\n",
       "      <th></th>\n",
       "      <th>Neighborhood</th>\n",
       "      <th>Latitude</th>\n",
       "      <th>Longitude</th>\n",
       "      <th>VenueName</th>\n",
       "      <th>VenueLatitude</th>\n",
       "      <th>VenueLongitude</th>\n",
       "      <th>VenueCategory</th>\n",
       "    </tr>\n",
       "  </thead>\n",
       "  <tbody>\n",
       "    <tr>\n",
       "      <th>0</th>\n",
       "      <td>Admiralteysky District</td>\n",
       "      <td>59.92659</td>\n",
       "      <td>30.3056</td>\n",
       "      <td>Булочная Ф. Вольчека</td>\n",
       "      <td>59.926702</td>\n",
       "      <td>30.307921</td>\n",
       "      <td>Bakery</td>\n",
       "    </tr>\n",
       "    <tr>\n",
       "      <th>1</th>\n",
       "      <td>Admiralteysky District</td>\n",
       "      <td>59.92659</td>\n",
       "      <td>30.3056</td>\n",
       "      <td>Chao, mama!</td>\n",
       "      <td>59.926993</td>\n",
       "      <td>30.308474</td>\n",
       "      <td>Hotel</td>\n",
       "    </tr>\n",
       "    <tr>\n",
       "      <th>2</th>\n",
       "      <td>Admiralteysky District</td>\n",
       "      <td>59.92659</td>\n",
       "      <td>30.3056</td>\n",
       "      <td>CUP IN CUP</td>\n",
       "      <td>59.928074</td>\n",
       "      <td>30.302705</td>\n",
       "      <td>Coffee Shop</td>\n",
       "    </tr>\n",
       "    <tr>\n",
       "      <th>3</th>\n",
       "      <td>Admiralteysky District</td>\n",
       "      <td>59.92659</td>\n",
       "      <td>30.3056</td>\n",
       "      <td>ЛУУК</td>\n",
       "      <td>59.926154</td>\n",
       "      <td>30.310403</td>\n",
       "      <td>Clothing Store</td>\n",
       "    </tr>\n",
       "    <tr>\n",
       "      <th>4</th>\n",
       "      <td>Admiralteysky District</td>\n",
       "      <td>59.92659</td>\n",
       "      <td>30.3056</td>\n",
       "      <td>Pacman</td>\n",
       "      <td>59.923537</td>\n",
       "      <td>30.307985</td>\n",
       "      <td>Hookah Bar</td>\n",
       "    </tr>\n",
       "  </tbody>\n",
       "</table>\n",
       "</div>"
      ],
      "text/plain": [
       "               Neighborhood  Latitude  Longitude             VenueName  \\\n",
       "0    Admiralteysky District  59.92659    30.3056  Булочная Ф. Вольчека   \n",
       "1    Admiralteysky District  59.92659    30.3056           Chao, mama!   \n",
       "2    Admiralteysky District  59.92659    30.3056            CUP IN CUP   \n",
       "3    Admiralteysky District  59.92659    30.3056                  ЛУУК   \n",
       "4    Admiralteysky District  59.92659    30.3056                Pacman   \n",
       "\n",
       "   VenueLatitude  VenueLongitude   VenueCategory  \n",
       "0      59.926702       30.307921          Bakery  \n",
       "1      59.926993       30.308474           Hotel  \n",
       "2      59.928074       30.302705     Coffee Shop  \n",
       "3      59.926154       30.310403  Clothing Store  \n",
       "4      59.923537       30.307985      Hookah Bar  "
      ]
     },
     "execution_count": 4,
     "metadata": {},
     "output_type": "execute_result"
    }
   ],
   "source": [
    "import pandas as pd\n",
    "pd.read_csv('Saint Petersburg_venues.csv').head()"
   ]
  }
 ],
 "metadata": {
  "kernelspec": {
   "display_name": "Python 3",
   "language": "python",
   "name": "python3"
  },
  "language_info": {
   "codemirror_mode": {
    "name": "ipython",
    "version": 3
   },
   "file_extension": ".py",
   "mimetype": "text/x-python",
   "name": "python",
   "nbconvert_exporter": "python",
   "pygments_lexer": "ipython3",
   "version": "3.7.1"
  }
 },
 "nbformat": 4,
 "nbformat_minor": 2
}
